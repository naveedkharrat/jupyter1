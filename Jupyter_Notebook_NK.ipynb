{
 "cells": [
  {
   "cell_type": "markdown",
   "id": "0edba748-aae4-4cda-8bd9-62355511b65f",
   "metadata": {
    "tags": []
   },
   "source": [
    "# My Jupyter Notebook on IBM Watson Studio"
   ]
  },
  {
   "cell_type": "markdown",
   "id": "23029a6b-e740-404f-b87f-bfbb89646ea1",
   "metadata": {},
   "source": [
    "**Naveed Kharrat** <br>\n",
    "Data Engineer"
   ]
  },
  {
   "cell_type": "markdown",
   "id": "dbce7723-5ba0-4a98-8c47-a7f264e2714e",
   "metadata": {},
   "source": [
    "*I'm interested in data science because I honestly love using hard information to come up with reasoning that isn't subjective. Ideology in business and industry has always been a great thing but concrete models to prove said ideas seems to be awesome.*"
   ]
  },
  {
   "cell_type": "markdown",
   "id": "20b5fffd-89dd-4ac0-9df1-fdb11e59eb68",
   "metadata": {},
   "source": [
    "### My Code is supposed to multiply the numbers 2 & 3 together"
   ]
  },
  {
   "cell_type": "code",
   "execution_count": 6,
   "id": "473f0ebe-b483-4331-a739-3021ed23324f",
   "metadata": {},
   "outputs": [
    {
     "data": {
      "text/html": [
       "6"
      ],
      "text/latex": [
       "6"
      ],
      "text/markdown": [
       "6"
      ],
      "text/plain": [
       "[1] 6"
      ]
     },
     "metadata": {},
     "output_type": "display_data"
    }
   ],
   "source": [
    "a <- c (2)\n",
    "b <- c (3)\n",
    "a*b"
   ]
  },
  {
   "cell_type": "markdown",
   "id": "f4a8e080-99fb-4e72-b2d0-ce7ec53d11ca",
   "metadata": {},
   "source": [
    "This lab showed us how to do the following:\n",
    "- Enter a heading in H1\n",
    "- Bold a string\n",
    "- Enter a sub-heading in H3\n",
    "- Performed a multiplication command\n",
    "\n",
    "*****\n",
    "\n",
    "We learned this all via the IBM Tools for Data Science [Coursera Course](https://www.coursera.org)\n"
   ]
  }
 ],
 "metadata": {
  "kernelspec": {
   "display_name": "R",
   "language": "R",
   "name": "conda-env-r-r"
  },
  "language_info": {
   "codemirror_mode": "r",
   "file_extension": ".r",
   "mimetype": "text/x-r-source",
   "name": "R",
   "pygments_lexer": "r",
   "version": "3.5.1"
  }
 },
 "nbformat": 4,
 "nbformat_minor": 5
}
