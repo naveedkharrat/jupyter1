{
 "cells": [
  {
   "cell_type": "markdown",
   "id": "3b53685d-e122-4db7-ae37-1b8d440340a9",
   "metadata": {},
   "source": [
    "# My Jupyter Notebook on IBM Watson Studio"
   ]
  },
  {
   "cell_type": "markdown",
   "id": "5c6b6e7d-09af-4a94-b16e-f58c8712f2a1",
   "metadata": {},
   "source": [
    "**Naveed Kharrat** <br>\n",
    "Data Engineer"
   ]
  },
  {
   "cell_type": "markdown",
   "id": "bed256f2-4208-4994-b111-d6ee09275b03",
   "metadata": {},
   "source": [
    "*I'm interested in data science because I honestly love using hard information to come up with reasoning that isn't subjective. Ideology in business and industry has always been a great thing but concrete models to prove said ideas seems to be awesome.*"
   ]
  },
  {
   "cell_type": "markdown",
   "id": "a73b6a6f-0832-4172-8d2f-e7b7da587ad1",
   "metadata": {},
   "source": [
    "### My Code is supposed to multiply the numbers 3 & 4 together"
   ]
  },
  {
   "cell_type": "code",
   "execution_count": null,
   "id": "3d1bede3-38f0-4e55-a592-a18fe23e523d",
   "metadata": {},
   "outputs": [],
   "source": [
    "3 * 4"
   ]
  },
  {
   "cell_type": "markdown",
   "id": "f0a52f39-d220-406d-8217-e8a7f3e01358",
   "metadata": {},
   "source": [
    "This lab showed us how to do the following:\n",
    "- Enter a heading in H1\n",
    "- Bold a string\n",
    "- Enter a sub-heading in H3\n",
    "- Performed a multiplication command\n",
    "\n",
    "*****\n",
    "\n",
    "We learned this all via the IBM Tools for Data Science [Coursera Course](https://www.coursera.org)\n"
   ]
  }
 ],
 "metadata": {
  "kernelspec": {
   "display_name": "R",
   "language": "R",
   "name": "conda-env-r-r"
  },
  "language_info": {
   "codemirror_mode": "r",
   "file_extension": ".r",
   "mimetype": "text/x-r-source",
   "name": "R",
   "pygments_lexer": "r",
   "version": "3.5.1"
  }
 },
 "nbformat": 4,
 "nbformat_minor": 5
}
